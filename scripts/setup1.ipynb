{
 "cells": [
  {
   "cell_type": "markdown",
   "metadata": {},
   "source": [
    "Using Drive"
   ]
  },
  {
   "cell_type": "code",
   "execution_count": null,
   "metadata": {},
   "outputs": [],
   "source": [
    "!pip install pydrive"
   ]
  },
  {
   "cell_type": "code",
   "execution_count": 1,
   "metadata": {},
   "outputs": [
    {
     "name": "stdout",
     "output_type": "stream",
     "text": [
      "Your browser has been opened to visit:\n",
      "\n",
      "    https://accounts.google.com/o/oauth2/auth?client_id=93210286347-n059g7t2kfn9ute2csnsmbog59gksuvd.apps.googleusercontent.com&redirect_uri=http%3A%2F%2Flocalhost%3A8080%2F&scope=https%3A%2F%2Fwww.googleapis.com%2Fauth%2Fdrive&access_type=offline&response_type=code\n",
      "\n",
      "Authentication successful.\n"
     ]
    }
   ],
   "source": [
    "from pydrive.auth import GoogleAuth\n",
    "from pydrive.drive import GoogleDrive\n",
    "\n",
    "# Authenticate with Google Drive\n",
    "gauth = GoogleAuth()\n",
    "gauth.LocalWebserverAuth() # Authenticate using a local web server\n",
    "drive = GoogleDrive(gauth)"
   ]
  },
  {
   "cell_type": "code",
   "execution_count": 2,
   "metadata": {},
   "outputs": [
    {
     "name": "stderr",
     "output_type": "stream",
     "text": [
      "100%|██████████| 8/8 [00:05<00:00,  1.46it/s]\n"
     ]
    }
   ],
   "source": [
    "import os\n",
    "from tqdm import tqdm \n",
    "import json\n",
    "\n",
    "def get_directories():\n",
    "    folder_id = '1My9pCM1VJq2efp2o-1UWqrsk8dQT4kQi'\n",
    "    file_list = drive.ListFile({'q': f\"'{folder_id}' in parents\"}).GetList()\n",
    "    dir = [(f['id'], f['title']) for f in file_list if f['mimeType'].endswith('folder')]\n",
    "    return dir\n",
    "\n",
    "def get_images(folder_id):\n",
    "    file_list = drive.ListFile({'q': f\"'{folder_id}' in parents\"}).GetList()\n",
    "    image_files = [file for file in file_list if file['title'].lower().endswith(('.jpg', '.jpeg', '.png', '.gif'))]\n",
    "    result = []\n",
    "    for img in image_files:\n",
    "        if 'cover' in img['title']:\n",
    "            result.insert(0,{\n",
    "            'img': img['webContentLink'],\n",
    "            'alt': 'None',\n",
    "            'location': None,\n",
    "            'tag': None\n",
    "        })\n",
    "        else:\n",
    "            result.append({\n",
    "                'img': img['webContentLink'],\n",
    "                'alt': 'None',\n",
    "                'location': None,\n",
    "                'tag': None\n",
    "            })\n",
    "    return result\n",
    "\n",
    "def run():\n",
    "    config = []\n",
    "    dirs = get_directories()\n",
    "    for path, title in tqdm(dirs):\n",
    "        photos = get_images(path)\n",
    "        if len(photos):\n",
    "            config.append({\n",
    "                    'title': title.title(),\n",
    "                    'img': photos[0]['img'],\n",
    "                    'photos': photos\n",
    "            })\n",
    "    return config\n",
    "\n",
    "config = run()\n",
    "\n",
    "\n",
    "json.dump(config, open('../src/data/image_config.json', 'w'))"
   ]
  },
  {
   "cell_type": "markdown",
   "metadata": {},
   "source": [
    "Git code"
   ]
  },
  {
   "cell_type": "code",
   "execution_count": 56,
   "metadata": {},
   "outputs": [],
   "source": [
    "import requests\n",
    "import base64\n",
    "import json\n",
    "import datetime\n",
    "\n",
    "\n",
    "def push_to_repo_branch(gitHubFileName, fileName, repo_slug, branch, user, token):\n",
    "    '''\n",
    "    Push file update to GitHub repo\n",
    "    \n",
    "    :param gitHubFileName: the name of the file in the repo\n",
    "    :param fileName: the name of the file on the local branch\n",
    "    :param repo_slug: the github repo slug, i.e. username/repo\n",
    "    :param branch: the name of the branch to push the file to\n",
    "    :param user: github username\n",
    "    :param token: github user token\n",
    "    :return None\n",
    "    :raises Exception: if file with the specified name cannot be found in the repo\n",
    "    '''\n",
    "    \n",
    "    message = \"Automated update \" + str(datetime.datetime.now())\n",
    "    path = \"https://api.github.com/repos/%s/branches/%s\" % (repo_slug, branch)\n",
    "\n",
    "    r = requests.get(path, auth=(user,token))\n",
    "    if not r.ok:\n",
    "        print(\"Error when retrieving branch info from %s\" % path)\n",
    "        print(\"Reason: %s [%d]\" % (r.text, r.status_code))\n",
    "        raise\n",
    "    rjson = r.json()\n",
    "    treeurl = rjson['commit']['commit']['tree']['url']\n",
    "    r2 = requests.get(treeurl, auth=(user,token))\n",
    "    if not r2.ok:\n",
    "        print(\"Error when retrieving commit tree from %s\" % treeurl)\n",
    "        print(\"Reason: %s [%d]\" % (r2.text, r2.status_code))\n",
    "        raise\n",
    "    r2json = r2.json()\n",
    "    sha = None\n",
    "\n",
    "    for file in r2json['tree']:\n",
    "        # Found file, get the sha code\n",
    "        if file['path'] == gitHubFileName:\n",
    "            sha = file['sha']\n",
    "\n",
    "    # # if sha is None after the for loop, we did not find the file name!\n",
    "    # if sha is None:\n",
    "    #     print (\"Could not find \" + gitHubFileName + \" in repos 'tree' \")\n",
    "    #     raise Exception\n",
    "\n",
    "    with open(fileName, 'rb') as data:\n",
    "        content = base64.b64encode(data.read()).decode()\n",
    "\n",
    "    # gathered all the data, now let's push\n",
    "    inputdata = {}\n",
    "    inputdata[\"path\"] = gitHubFileName\n",
    "    inputdata[\"branch\"] = branch\n",
    "    inputdata[\"message\"] = message\n",
    "    inputdata[\"content\"] = content\n",
    "    if sha:\n",
    "        inputdata[\"sha\"] = str(sha)\n",
    "\n",
    "    updateURL = f\"https://api.github.com/repos/{repo_slug}/contents/\" + gitHubFileName\n",
    "    try:\n",
    "        rPut = requests.put(updateURL, auth=(user,token), data = json.dumps(inputdata))\n",
    "        if not rPut.ok:\n",
    "            print(\"Error when pushing to %s\" % updateURL)\n",
    "            print(\"Reason: %s [%d]\" % (rPut.text, rPut.status_code))\n",
    "            raise Exception\n",
    "    except requests.exceptions.RequestException as e:\n",
    "        print ('Something went wrong! I will print all the information that is available so you can figure out what happend!')\n",
    "        print (rPut)\n",
    "        print (rPut.headers)\n",
    "        print (rPut.text)\n",
    "        print (e)\n",
    "\n",
    "github_username = 'Sarita-Joshi'\n",
    "repo_name = 'photography-portfolio'\n",
    "access_token = ''\n",
    "\n",
    "\n",
    "push_to_repo_branch(\n",
    "    'src/pages/image_config.json',\n",
    "    '../src/data/image_config.json',\n",
    "    'Sarita-Joshi/web-portfolio',\n",
    "    'develop',\n",
    "    github_username,\n",
    "    access_token\n",
    ")\n"
   ]
  }
 ],
 "metadata": {
  "kernelspec": {
   "display_name": "Python 3",
   "language": "python",
   "name": "python3"
  },
  "language_info": {
   "codemirror_mode": {
    "name": "ipython",
    "version": 3
   },
   "file_extension": ".py",
   "mimetype": "text/x-python",
   "name": "python",
   "nbconvert_exporter": "python",
   "pygments_lexer": "ipython3",
   "version": "3.10.10"
  },
  "orig_nbformat": 4
 },
 "nbformat": 4,
 "nbformat_minor": 2
}
